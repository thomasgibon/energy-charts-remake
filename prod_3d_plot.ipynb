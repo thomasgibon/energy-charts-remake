{
 "cells": [
  {
   "cell_type": "code",
   "execution_count": 30,
   "id": "212d23e5",
   "metadata": {},
   "outputs": [],
   "source": [
    "import pandas as pd\n",
    "import numpy as np\n",
    "import matplotlib.pyplot as plt\n",
    "import seaborn as sns\n",
    "from datetime import datetime\n",
    "from datetime import timedelta\n",
    "\n",
    "\n",
    "from mpl_toolkits.mplot3d.art3d import Poly3DCollection\n",
    "from matplotlib.colors import LightSource\n",
    "from matplotlib import cm\n",
    "\n",
    "from functions.plot_prod import plot_prod\n",
    "\n",
    "from bentso import *"
   ]
  },
  {
   "cell_type": "code",
   "execution_count": 2,
   "id": "697fb28d",
   "metadata": {},
   "outputs": [],
   "source": [
    "import warnings\n",
    "warnings.filterwarnings('ignore')"
   ]
  },
  {
   "cell_type": "markdown",
   "id": "7854016d",
   "metadata": {},
   "source": [
    "### Small test now"
   ]
  },
  {
   "cell_type": "code",
   "execution_count": 159,
   "id": "8bccd7e0",
   "metadata": {},
   "outputs": [
    {
     "name": "stdout",
     "output_type": "stream",
     "text": [
      "https://energy-charts.info/charts/power/data/de/year_2021.json\n"
     ]
    }
   ],
   "source": [
    "rolling=1 # rolling period (choose a multiple of 7 if days for best results)\n",
    "country='de'\n",
    "\n",
    "prod_df_2021, load_df, colors_2021 = plot_prod(country=country, # country code\n",
    "                             year='2021',  # year\n",
    "                             display=False, # display chart (or just save data)\n",
    "                             load=True,    # show load\n",
    "                             cumul=False,  # cumulative\n",
    "                             rolling=rolling,   # rolling average, in timesteps\n",
    "                             lang='en',    # language\n",
    "                             step='hour')"
   ]
  },
  {
   "cell_type": "code",
   "execution_count": 160,
   "id": "4df1c7ca",
   "metadata": {},
   "outputs": [
    {
     "name": "stdout",
     "output_type": "stream",
     "text": [
      "Using data directory C:\\Users\\Gibon\\AppData\\Local\\bonsai\\bentso\n"
     ]
    }
   ],
   "source": [
    "cl = CachingDataClient()\n",
    "inst_cap_2021 = cl.get_capacity(country.upper(),2021)"
   ]
  },
  {
   "cell_type": "code",
   "execution_count": 169,
   "id": "a41abb0f",
   "metadata": {},
   "outputs": [],
   "source": [
    "inst_cap_2021.columns = [c.capitalize() for c in inst_cap_2021.columns]\n",
    "prod_df_2021.columns  = [c.capitalize() for c in prod_df_2021.columns]"
   ]
  },
  {
   "cell_type": "code",
   "execution_count": 180,
   "id": "963d640f",
   "metadata": {
    "scrolled": true
   },
   "outputs": [],
   "source": [
    "inst_cap_2021.rename({'Hydro run-of-river and poundage':'Hydro run-of-river',\n",
    "                      'Fossil brown coal/lignite':'Fossil brown coal'}, axis=1, inplace=True)\n",
    "try:\n",
    "    inst_cap_2021['Wind'] = inst_cap_2021[['Wind offshore','Wind onshore']].sum(1)\n",
    "except:\n",
    "    pass"
   ]
  },
  {
   "cell_type": "code",
   "execution_count": 181,
   "id": "e0dee3fb",
   "metadata": {},
   "outputs": [],
   "source": [
    "colors_2021_df = pd.DataFrame(colors_2021)\n",
    "colors_2021_df.rename({'Hydro run-of-river and poundage':'Hydro run-of-river',\n",
    "                      'Hydro Run-of-River':'Hydro run-of-river'}, axis=1, inplace=True)\n",
    "colors_2021_df[[c.capitalize() for c in colors_2021_df.columns]] = colors_2021_df"
   ]
  },
  {
   "cell_type": "code",
   "execution_count": 185,
   "id": "d5d0c203",
   "metadata": {},
   "outputs": [],
   "source": [
    "intersect = inst_cap_2021.columns & prod_df_2021.columns"
   ]
  },
  {
   "cell_type": "code",
   "execution_count": 186,
   "id": "0d629209",
   "metadata": {},
   "outputs": [],
   "source": [
    "inst_cap_2021 = inst_cap_2021[intersect]\n",
    "prod_df_2021 = prod_df_2021[intersect]"
   ]
  },
  {
   "cell_type": "code",
   "execution_count": 187,
   "id": "4b138d7d",
   "metadata": {},
   "outputs": [],
   "source": [
    "if country=='de':\n",
    "    prod_df_2021 = prod_df_2021.groupby(pd.Grouper(freq='H')).sum()/4"
   ]
  },
  {
   "cell_type": "code",
   "execution_count": 188,
   "id": "f2bbb590",
   "metadata": {},
   "outputs": [],
   "source": [
    "cumul_2021 = prod_df_2021.cumsum(axis=0)"
   ]
  },
  {
   "cell_type": "code",
   "execution_count": 189,
   "id": "c747f14b",
   "metadata": {},
   "outputs": [],
   "source": [
    "order = cumul_2021.iloc[-1,:].sort_values(ascending = False).index"
   ]
  },
  {
   "cell_type": "code",
   "execution_count": 190,
   "id": "dd6e3daa",
   "metadata": {},
   "outputs": [],
   "source": [
    "_xx = inst_cap_2021[order].cumsum(axis=1)\n",
    "_x = [0,0] + pd.concat([_xx]*2,axis=0).unstack().values.tolist()\n",
    "_y = range(0,cumul_2021.shape[0])\n",
    "X, Y = np.meshgrid(_x, _y)\n",
    "Z = pd.concat([cumul_2021]*2, keys=['start','stop']).unstack(0)"
   ]
  },
  {
   "cell_type": "code",
   "execution_count": 191,
   "id": "5a21c95e",
   "metadata": {},
   "outputs": [],
   "source": [
    "cap = pd.concat([inst_cap_2021.iloc[[0]]] *  Z.shape[0]).set_index(Z.index)"
   ]
  },
  {
   "cell_type": "code",
   "execution_count": 192,
   "id": "e62c639a",
   "metadata": {},
   "outputs": [],
   "source": [
    "Z = Z.div(cap,level=0)*1000\n",
    "\n",
    "Z[('last','stop')] = 0\n",
    "Z[('first','start')] = 0\n",
    "Z = Z[['first'] + order.tolist() + ['last']]\n",
    "\n",
    "# Z = Z.loc[:,~(Z==np.inf).all()]"
   ]
  },
  {
   "cell_type": "code",
   "execution_count": 193,
   "id": "1c1991b4",
   "metadata": {},
   "outputs": [],
   "source": [
    "months = prod_df_2021.groupby(pd.Grouper(freq='M')).sum().index.strftime('%B')[1:]\n",
    "ticks=[]\n",
    "\n",
    "for i,d in enumerate(prod_df_2021.index.day):\n",
    "    if i in range(1,prod_df_2021.shape[0]-1):\n",
    "        if prod_df_2021.index[i].day - prod_df_2021.index[i+1].day > 2:\n",
    "            ticks.append(i)\n",
    "ticks.append(i)"
   ]
  },
  {
   "cell_type": "code",
   "execution_count": 194,
   "id": "dbfe6c07",
   "metadata": {},
   "outputs": [
    {
     "data": {
      "text/plain": [
       "Text(0.5, 0, 'Load hours')"
      ]
     },
     "execution_count": 194,
     "metadata": {},
     "output_type": "execute_result"
    }
   ],
   "source": [
    "%matplotlib qt\n",
    "\n",
    "fig = plt.figure(figsize=(30, 30))\n",
    "ax1 = fig.add_subplot(111, projection='3d')\n",
    "\n",
    "for i,t in enumerate(order):\n",
    "    \n",
    "    s = slice(2*i, 2*(i+2), None)\n",
    "    \n",
    "    # Sides and top\n",
    "    ax1.plot_surface(X[:,s],\n",
    "                     Y[:,s],\n",
    "                     Z[['first',t,'last']],\n",
    "                    color=colors_2021_df[t])\n",
    "    \n",
    "    ax1.text3D(X[0,2*i] + (X[0,2*i+2] - X[0,2*i])/2,\n",
    "               _y[-1], Z[t].iloc[-1,-1] + 100, t, zdir='z')\n",
    "    \n",
    "    # Last slice\n",
    "    verts = [list(zip(X[-1,s],\n",
    "                      Y[-1,s],\n",
    "                      Z[['first',t,'last']].iloc[-1,:]))]\n",
    "    ax1.add_collection3d(Poly3DCollection(verts,facecolor=colors_2021_df[t]))\n",
    "    \n",
    "    # Bottom\n",
    "    verts = [list(zip(X[-1,s],\n",
    "                      [1,*Y[-1,-2:],1],\n",
    "                      [0,0,0,0]))]\n",
    "    ax1.add_collection3d(Poly3DCollection(verts,facecolor=colors_2021_df[t]))\n",
    "    \n",
    "ax1.set_xlabel('Installed capacity (GW)')\n",
    "ax1.set_yticks(ticks)\n",
    "ax1.set_yticklabels(months)\n",
    "ax1.set_ylabel('Time')\n",
    "\n",
    "ax1.set_zlabel('Load hours')"
   ]
  },
  {
   "cell_type": "code",
   "execution_count": null,
   "id": "8908aa63",
   "metadata": {},
   "outputs": [],
   "source": []
  },
  {
   "cell_type": "code",
   "execution_count": null,
   "id": "6e8a9db8",
   "metadata": {},
   "outputs": [],
   "source": []
  }
 ],
 "metadata": {
  "kernelspec": {
   "display_name": "Python 3 (ipykernel)",
   "language": "python",
   "name": "python3"
  },
  "language_info": {
   "codemirror_mode": {
    "name": "ipython",
    "version": 3
   },
   "file_extension": ".py",
   "mimetype": "text/x-python",
   "name": "python",
   "nbconvert_exporter": "python",
   "pygments_lexer": "ipython3",
   "version": "3.7.11"
  }
 },
 "nbformat": 4,
 "nbformat_minor": 5
}
