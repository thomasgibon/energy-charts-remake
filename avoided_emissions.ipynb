{
 "cells": [
  {
   "cell_type": "markdown",
   "metadata": {},
   "source": [
    "<title>Calculating avoided emissions from new electricity generation</title>"
   ]
  },
  {
   "cell_type": "markdown",
   "metadata": {},
   "source": [
    "The accepted _raison d'être_ of new projects generating electricity is that they will avoid carbon-intensive power production, generally from fossil fuels such as coal or fossil gas. However, the actual amount of carbon dioxide, as well as other greenhouse gases, or even other environmental impacts, avoided, could be calculated in many ways, that depend on explicit methodological choices. Avoided emissions are defined as the net difference between \"baseline\" emissions, which would have occurred should the new project not be developed, and \"absolute\" (or induced) emissions by the new system.\n",
    "\n",
    "The methodology is inspired from [the European Investment Bank methodology](https://www.eib.org/attachments/lucalli/eib_project_carbon_footprint_methodologies_2023_en.pdf) and completed with other options considered in [Gibon et al. (2020)](https://iopscience.iop.org/article/10.1088/1748-9326/abaa0c).\n",
    "\n",
    "If electricity is to be produced from waste heat, the latter is considered as \"free\" according to the so-called \"cut-off\" approach in LCA, meaning that only the impacts of its conversion to electricity would be accounted for.\n",
    "\n",
    "Let us start with importing the ecoinvent database, in its attributional (cut-off) and consequential variants. The latest ecoinvent version that is compatible with brightway is 3.8."
   ]
  },
  {
   "cell_type": "markdown",
   "metadata": {},
   "source": [
    "# Importing the data"
   ]
  },
  {
   "cell_type": "markdown",
   "metadata": {},
   "source": [
    "We will use ecoinvent as well as [this paper](https://doi.org/10.1007/s11367-018-1571-4) as sources for the emission factors."
   ]
  },
  {
   "cell_type": "code",
   "execution_count": 1,
   "metadata": {},
   "outputs": [],
   "source": [
    "import brightway2 as bw\n",
    "import pandas as pd\n",
    "from bw2data.backends.peewee.proxies import Activity"
   ]
  },
  {
   "cell_type": "code",
   "execution_count": 2,
   "metadata": {},
   "outputs": [],
   "source": [
    "bw.projects.set_current('avoided_emissions')"
   ]
  },
  {
   "cell_type": "code",
   "execution_count": 3,
   "metadata": {},
   "outputs": [
    {
     "data": {
      "text/plain": [
       "Databases dictionary with 3 object(s):\n",
       "\tbiosphere3\n",
       "\tecoinvent 3.8 consequential\n",
       "\tecoinvent 3.8 cutoff"
      ]
     },
     "execution_count": 3,
     "metadata": {},
     "output_type": "execute_result"
    }
   ],
   "source": [
    "bw.databases"
   ]
  },
  {
   "cell_type": "code",
   "execution_count": 4,
   "metadata": {},
   "outputs": [
    {
     "name": "stdout",
     "output_type": "stream",
     "text": [
      "Biosphere database already present!!! No setup is needed\n"
     ]
    }
   ],
   "source": [
    "bw.bw2setup()"
   ]
  },
  {
   "cell_type": "code",
   "execution_count": 5,
   "metadata": {},
   "outputs": [],
   "source": [
    "if 'ecoinvent 3.8 cutoff' not in bw.databases:\n",
    "    ei38 = bw.SingleOutputEcospold2Importer('D:/Nextcloud/ecoinvent/ecoinvent 3.8_cutoff_ecoSpold02/datasets',\n",
    "                                       db_name='ecoinvent 3.8 cutoff')\n",
    "    ei38.apply_strategies()\n",
    "    ei38.write_database()"
   ]
  },
  {
   "cell_type": "code",
   "execution_count": 6,
   "metadata": {},
   "outputs": [],
   "source": [
    "if 'ecoinvent 3.8 consequential' not in bw.databases:\n",
    "    ei38 = bw.SingleOutputEcospold2Importer('D:/Nextcloud/ecoinvent/ecoinvent 3.8_consequential_ecoSpold02/datasets',\n",
    "                                       db_name='ecoinvent 3.8 consequential')\n",
    "    ei38.apply_strategies()\n",
    "    ei38.write_database()"
   ]
  },
  {
   "cell_type": "code",
   "execution_count": 7,
   "metadata": {},
   "outputs": [],
   "source": [
    "ei38cutoff = bw.Database('ecoinvent 3.8 cutoff')"
   ]
  },
  {
   "cell_type": "code",
   "execution_count": 8,
   "metadata": {},
   "outputs": [],
   "source": [
    "ei38conseq = bw.Database('ecoinvent 3.8 consequential')"
   ]
  },
  {
   "cell_type": "code",
   "execution_count": 9,
   "metadata": {},
   "outputs": [],
   "source": [
    "long_term_conseq_mixes = pd.read_excel('data/Environmental_impacts_of_marginal_electricity.xlsx', sheet_name=None)"
   ]
  },
  {
   "cell_type": "code",
   "execution_count": 10,
   "metadata": {},
   "outputs": [],
   "source": [
    "for df in long_term_conseq_mixes.values():\n",
    "    df.rename({'Unnamed: 0':'Location'}, axis=1, inplace=True)\n",
    "    df.set_index('Location', inplace=True)"
   ]
  },
  {
   "cell_type": "markdown",
   "metadata": {},
   "source": [
    "# Reference activities"
   ]
  },
  {
   "cell_type": "markdown",
   "metadata": {},
   "source": [
    "We can classify the reference activities as follows:\n",
    "\n",
    "<table class=MsoTableGrid border=1 cellspacing=0 cellpadding=0 width=\"100%\"\n",
    " style='width:100.0%;border-collapse:collapse;border:none;mso-border-alt:solid windowtext .5pt;\n",
    " mso-yfti-tbllook:1184;mso-padding-alt:0cm 5.4pt 0cm 5.4pt'>\n",
    " <tr style='mso-yfti-irow:0;mso-yfti-firstrow:yes'>\n",
    "  <td width=\"25%\" valign=top style='width:25.64%;border:solid windowtext 1.0pt;\n",
    "  mso-border-alt:solid windowtext .5pt;padding:0cm 5.4pt 0cm 5.4pt'>\n",
    "  <p class=MsoNormal style='margin-bottom:0cm;line-height:normal'><b><span\n",
    "  style='font-size:8.0pt'>Substitution scope<o:p></o:p></span></b></p>\n",
    "  </td>\n",
    "  <td width=\"26%\" valign=top style='width:26.16%;border:solid windowtext 1.0pt;\n",
    "  border-left:none;mso-border-left-alt:solid windowtext .5pt;mso-border-alt:\n",
    "  solid windowtext .5pt;padding:0cm 5.4pt 0cm 5.4pt'>\n",
    "  <p class=MsoNormal style='margin-bottom:0cm;line-height:normal'><b><span\n",
    "  style='font-size:8.0pt'>Attributional <o:p></o:p></span></b></p>\n",
    "  </td>\n",
    "  <td width=\"27%\" valign=top style='width:27.26%;border:solid windowtext 1.0pt;\n",
    "  border-left:none;mso-border-left-alt:solid windowtext .5pt;mso-border-alt:\n",
    "  solid windowtext .5pt;padding:0cm 5.4pt 0cm 5.4pt'>\n",
    "  <p class=MsoNormal style='margin-bottom:0cm;line-height:normal'><b><span\n",
    "  style='font-size:8.0pt'>Consequential<o:p></o:p></span></b></p>\n",
    "  </td>\n",
    "  <td width=\"20%\" valign=top style='width:20.92%;border:solid windowtext 1.0pt;\n",
    "  border-left:none;mso-border-left-alt:solid windowtext .5pt;mso-border-alt:\n",
    "  solid windowtext .5pt;padding:0cm 5.4pt 0cm 5.4pt'>\n",
    "  <p class=MsoNormal style='margin-bottom:0cm;line-height:normal'><b><span\n",
    "  style='font-size:8.0pt'>Mixed method<o:p></o:p></span></b></p>\n",
    "  </td>\n",
    " </tr>\n",
    " <tr style='mso-yfti-irow:1'>\n",
    "  <td width=\"25%\" valign=top style='width:25.64%;border:solid windowtext 1.0pt;\n",
    "  border-top:none;mso-border-top-alt:solid windowtext .5pt;mso-border-alt:solid windowtext .5pt;\n",
    "  padding:0cm 5.4pt 0cm 5.4pt'>\n",
    "  <p class=MsoNormal style='margin-bottom:0cm;line-height:normal'><span\n",
    "  style='font-size:8.0pt'>Plant-level, operating margin<o:p></o:p></span></p>\n",
    "  </td>\n",
    "  <td width=\"53%\" colspan=2 valign=top style='width:53.44%;border-top:none;\n",
    "  border-left:none;border-bottom:solid windowtext 1.0pt;border-right:solid windowtext 1.0pt;\n",
    "  mso-border-top-alt:solid windowtext .5pt;mso-border-left-alt:solid windowtext .5pt;\n",
    "  mso-border-alt:solid windowtext .5pt;padding:0cm 5.4pt 0cm 5.4pt'>\n",
    "  <p class=MsoNormal style='margin-bottom:0cm;line-height:normal'><span\n",
    "  style='font-size:8.0pt'>Combined cycle gas turbine (CCGT)<o:p></o:p></span></p>\n",
    "  </td>\n",
    "  <td width=\"20%\" rowspan=3 valign=top style='width:20.92%;border-top:none;\n",
    "  border-left:none;border-bottom:solid windowtext 1.0pt;border-right:solid windowtext 1.0pt;\n",
    "  mso-border-top-alt:solid windowtext .5pt;mso-border-left-alt:solid windowtext .5pt;\n",
    "  mso-border-alt:solid windowtext .5pt;padding:0cm 5.4pt 0cm 5.4pt'>\n",
    "  <p class=MsoNormal style='margin-bottom:0cm;line-height:normal'><span\n",
    "  style='font-size:8.0pt'>X% operating margin (CCGT) + (1-<span class=GramE>X)%</span>\n",
    "  built margin<o:p></o:p></span></p>\n",
    "  </td>\n",
    " </tr>\n",
    " <tr style='mso-yfti-irow:2'>\n",
    "  <td width=\"25%\" valign=top style='width:25.64%;border:solid windowtext 1.0pt;\n",
    "  border-top:none;mso-border-top-alt:solid windowtext .5pt;mso-border-alt:solid windowtext .5pt;\n",
    "  padding:0cm 5.4pt 0cm 5.4pt'>\n",
    "  <p class=MsoNormal style='margin-bottom:0cm;line-height:normal'><span\n",
    "  style='font-size:8.0pt'>Grid-level, operating margin<o:p></o:p></span></p>\n",
    "  </td>\n",
    "  <td width=\"26%\" valign=top style='width:26.16%;border-top:none;border-left:\n",
    "  none;border-bottom:solid windowtext 1.0pt;border-right:solid windowtext 1.0pt;\n",
    "  mso-border-top-alt:solid windowtext .5pt;mso-border-left-alt:solid windowtext .5pt;\n",
    "  mso-border-alt:solid windowtext .5pt;padding:0cm 5.4pt 0cm 5.4pt'>\n",
    "  <p class=MsoNormal style='margin-bottom:0cm;line-height:normal'><span\n",
    "  style='font-size:8.0pt'><o:p>&nbsp;</o:p></span></p>\n",
    "  </td>\n",
    "  <td width=\"27%\" valign=top style='width:27.26%;border-top:none;border-left:\n",
    "  none;border-bottom:solid windowtext 1.0pt;border-right:solid windowtext 1.0pt;\n",
    "  mso-border-top-alt:solid windowtext .5pt;mso-border-left-alt:solid windowtext .5pt;\n",
    "  mso-border-alt:solid windowtext .5pt;padding:0cm 5.4pt 0cm 5.4pt'>\n",
    "  <p class=MsoNormal style='margin-bottom:0cm;line-height:normal'><span\n",
    "  style='font-size:8.0pt'>Next MWh being produced from dispatchable capacity<o:p></o:p></span></p>\n",
    "  </td>\n",
    " </tr>\n",
    " <tr style='mso-yfti-irow:3'>\n",
    "  <td width=\"25%\" valign=top style='width:25.64%;border:solid windowtext 1.0pt;\n",
    "  border-top:none;mso-border-top-alt:solid windowtext .5pt;mso-border-alt:solid windowtext .5pt;\n",
    "  padding:0cm 5.4pt 0cm 5.4pt'>\n",
    "  <p class=MsoNormal style='margin-bottom:0cm;line-height:normal'><span\n",
    "  style='font-size:8.0pt'>Grid-level, short-term built margin<o:p></o:p></span></p>\n",
    "  </td>\n",
    "  <td width=\"26%\" valign=top style='width:26.16%;border-top:none;border-left:\n",
    "  none;border-bottom:solid windowtext 1.0pt;border-right:solid windowtext 1.0pt;\n",
    "  mso-border-top-alt:solid windowtext .5pt;mso-border-left-alt:solid windowtext .5pt;\n",
    "  mso-border-alt:solid windowtext .5pt;padding:0cm 5.4pt 0cm 5.4pt'>\n",
    "  <p class=MsoNormal style='margin-bottom:0cm;line-height:normal'><span\n",
    "  style='font-size:8.0pt'>Current mix of the grid (bidding zone) where new\n",
    "  project is located<o:p></o:p></span></p>\n",
    "  </td>\n",
    "  <td width=\"27%\" valign=top style='width:27.26%;border-top:none;border-left:\n",
    "  none;border-bottom:solid windowtext 1.0pt;border-right:solid windowtext 1.0pt;\n",
    "  mso-border-top-alt:solid windowtext .5pt;mso-border-left-alt:solid windowtext .5pt;\n",
    "  mso-border-alt:solid windowtext .5pt;padding:0cm 5.4pt 0cm 5.4pt'>\n",
    "  <p class=MsoNormal style='margin-bottom:0cm;line-height:normal'><span\n",
    "  style='font-size:8.0pt'>Next MW being built<o:p></o:p></span></p>\n",
    "  </td>\n",
    " </tr>\n",
    " <tr style='mso-yfti-irow:4;mso-yfti-lastrow:yes'>\n",
    "  <td width=\"25%\" valign=top style='width:25.64%;border:solid windowtext 1.0pt;\n",
    "  border-top:none;mso-border-top-alt:solid windowtext .5pt;mso-border-alt:solid windowtext .5pt;\n",
    "  padding:0cm 5.4pt 0cm 5.4pt'>\n",
    "  <p class=MsoNormal style='margin-bottom:0cm;line-height:normal'><span\n",
    "  style='font-size:8.0pt'>Grid-level, long-term built margin<o:p></o:p></span></p>\n",
    "  </td>\n",
    "  <td width=\"26%\" valign=top style='width:26.16%;border-top:none;border-left:\n",
    "  none;border-bottom:solid windowtext 1.0pt;border-right:solid windowtext 1.0pt;\n",
    "  mso-border-top-alt:solid windowtext .5pt;mso-border-left-alt:solid windowtext .5pt;\n",
    "  mso-border-alt:solid windowtext .5pt;padding:0cm 5.4pt 0cm 5.4pt'>\n",
    "  <p class=MsoNormal style='margin-bottom:0cm;line-height:normal'><span\n",
    "  style='font-size:8.0pt'>Foreseen mix of the grid (bidding zone) where new\n",
    "  project is located<o:p></o:p></span></p>\n",
    "  </td>\n",
    "  <td width=\"27%\" valign=top style='width:27.26%;border-top:none;border-left:\n",
    "  none;border-bottom:solid windowtext 1.0pt;border-right:solid windowtext 1.0pt;\n",
    "  mso-border-top-alt:solid windowtext .5pt;mso-border-left-alt:solid windowtext .5pt;\n",
    "  mso-border-alt:solid windowtext .5pt;padding:0cm 5.4pt 0cm 5.4pt'>\n",
    "  <p class=MsoNormal style='margin-bottom:0cm;line-height:normal'><span\n",
    "  style='font-size:8.0pt'>Additional capacity over a given period in the future<o:p></o:p></span></p>\n",
    "  </td>\n",
    "  <td width=\"20%\" valign=top style='width:20.92%;border-top:none;border-left:\n",
    "  none;border-bottom:solid windowtext 1.0pt;border-right:solid windowtext 1.0pt;\n",
    "  mso-border-top-alt:solid windowtext .5pt;mso-border-left-alt:solid windowtext .5pt;\n",
    "  mso-border-alt:solid windowtext .5pt;padding:0cm 5.4pt 0cm 5.4pt'>\n",
    "  <p class=MsoNormal style='margin-bottom:0cm;line-height:normal'><span\n",
    "  style='font-size:8.0pt'><o:p>&nbsp;</o:p></span></p>\n",
    "  </td>\n",
    " </tr>\n",
    "</table>\n",
    "\n",
    "Each cell follows a different assumption and methodological approach, which boils down to considering whether my project will displace\n",
    "- a specific power plant,\n",
    "- the operating margin at time of installation,\n",
    "- the built margin at time of installation,\n",
    "- the average existing mix at time of installation,\n",
    "- the average mix over the project's lifetime,\n",
    "- the built margin over the project's lifetime,\n",
    "- any mix calculated from a combination of methods above.\n",
    "\n",
    "We consider the substituted electricity to be high voltage power. This simplifies the calculation as some assumptions above would not be valid in low voltage (a power plant does not deliver low-voltage power)."
   ]
  },
  {
   "cell_type": "code",
   "execution_count": 11,
   "metadata": {},
   "outputs": [],
   "source": [
    "reference_activities = dict()"
   ]
  },
  {
   "cell_type": "markdown",
   "metadata": {},
   "source": [
    "## A specific power plant\n",
    "The EIB methodology falls back on an average combined cycle gas turbine, which is considered the most likely electricity generator to be substituted (fossil gas is very often the marginal source in the European grid's merit order).\n",
    "\n",
    "Let's see what's in ecoinvent."
   ]
  },
  {
   "cell_type": "code",
   "execution_count": 12,
   "metadata": {},
   "outputs": [],
   "source": [
    "act = [a for a in ei38cutoff\n",
    "       if 'electricity production, natural gas, combined cycle power plant' in a['name']\n",
    "       and 'LU' in a['location']][0]"
   ]
  },
  {
   "cell_type": "code",
   "execution_count": 13,
   "metadata": {},
   "outputs": [],
   "source": [
    "reference_activities['Specific power plant'] = {act:1}"
   ]
  },
  {
   "cell_type": "markdown",
   "metadata": {},
   "source": [
    "## Operating margin at time of installation\n",
    "This is the response of the grid for an additional 1 kWh of demand. We use the consequential variant of ecoinvent to approximate this."
   ]
  },
  {
   "cell_type": "code",
   "execution_count": 14,
   "metadata": {},
   "outputs": [],
   "source": [
    "act = [a for a in ei38conseq\n",
    "       if 'market for electricity, high voltage' in a['name']\n",
    "       and 'LU' in a['location']][0]"
   ]
  },
  {
   "cell_type": "code",
   "execution_count": 15,
   "metadata": {},
   "outputs": [],
   "source": [
    "reference_activities['Operating margin at time of installation'] = {act:1}"
   ]
  },
  {
   "cell_type": "markdown",
   "metadata": {},
   "source": [
    "## Built margin at time of installation\n",
    "Here is the limit of ecoinvent, since ecoinvent does not have time series of installed capacity. We resort to Vandepaer et al. (2019). The paper provides pre-calculated LCIA scores."
   ]
  },
  {
   "cell_type": "code",
   "execution_count": 16,
   "metadata": {},
   "outputs": [],
   "source": [
    "built_margin_lcia = dict()\n",
    "\n",
    "for impact, lcia_lu in long_term_conseq_mixes.items():\n",
    "    built_margin_lcia[impact]  = lcia_lu.loc['LU','Ecoinvent consequential 3.4 (2015-2020)']"
   ]
  },
  {
   "cell_type": "code",
   "execution_count": 17,
   "metadata": {},
   "outputs": [],
   "source": [
    "reference_activities['Built margin at time of installation'] = pd.Series(built_margin_lcia)"
   ]
  },
  {
   "cell_type": "markdown",
   "metadata": {},
   "source": [
    "## Average existing mix at time of installation\n",
    "This is the easiest factor to calculate, and probably the one that comes to mind naturally when thinking about a reference value."
   ]
  },
  {
   "cell_type": "code",
   "execution_count": 18,
   "metadata": {},
   "outputs": [],
   "source": [
    "act = [a for a in ei38cutoff\n",
    "       if 'market for electricity, high voltage' in a['name']\n",
    "       and 'LU' in a['location']][0]"
   ]
  },
  {
   "cell_type": "code",
   "execution_count": 19,
   "metadata": {},
   "outputs": [],
   "source": [
    "reference_activities['Average existing mix at time of installation'] = {act:1}"
   ]
  },
  {
   "cell_type": "markdown",
   "metadata": {},
   "source": [
    "## Average existing mix over project lifetime\n",
    "(still need to calculate this)"
   ]
  },
  {
   "cell_type": "markdown",
   "metadata": {},
   "source": [
    "## Built margin over the project's lifetime\n",
    "The assumption here is that the project would substitute electricity capacity built between 2030 and 2040."
   ]
  },
  {
   "cell_type": "code",
   "execution_count": 20,
   "metadata": {},
   "outputs": [],
   "source": [
    "built_margin_lcia = dict()\n",
    "\n",
    "for impact, lcia_lu in long_term_conseq_mixes.items():\n",
    "    built_margin_lcia[impact]  = lcia_lu.loc['LU','Ecoinvent consequential 3.4 (2030-2040)']"
   ]
  },
  {
   "cell_type": "code",
   "execution_count": 21,
   "metadata": {},
   "outputs": [],
   "source": [
    "reference_activities['Built margin over project lifetime'] = pd.Series(built_margin_lcia)"
   ]
  },
  {
   "cell_type": "markdown",
   "metadata": {},
   "source": [
    "## Mixed method\n",
    "Here we will build a functional unit made two methods.\n",
    "\n",
    "The [IFI methodology](https://www.eib.org/attachments/documents/ifi_framework_for_harmonised_approach_to_gga_renewable_energy_en.pdf) recommends\n",
    "- a 75% operating margin/25% built margin split for renewable (non-dispatchable) projects,\n",
    "- 50%/50% for dispatchable projects\n",
    "\n",
    "We will add it once the results are calculated."
   ]
  },
  {
   "cell_type": "markdown",
   "metadata": {},
   "source": [
    "# Calculation"
   ]
  },
  {
   "cell_type": "code",
   "execution_count": 43,
   "metadata": {},
   "outputs": [],
   "source": [
    "# We use the same methodology as in Vandepaer et al. for simplicity\n",
    "impacts = [m for m in bw.methods if 'ReCiPe Midpoint (H)' == m[0]]"
   ]
  },
  {
   "cell_type": "code",
   "execution_count": 45,
   "metadata": {},
   "outputs": [],
   "source": [
    "my_calculation_setup = {'inv': [act for act in reference_activities.values() if type([*act.keys()][0]) == Activity],\n",
    "                        'ia': impacts}"
   ]
  },
  {
   "cell_type": "code",
   "execution_count": 46,
   "metadata": {},
   "outputs": [],
   "source": [
    "approaches = [approach for approach,act in reference_activities.items() if type([*act.keys()][0]) == Activity]"
   ]
  },
  {
   "cell_type": "code",
   "execution_count": 47,
   "metadata": {},
   "outputs": [],
   "source": [
    "bw.calculation_setups['baselines'] = my_calculation_setup"
   ]
  },
  {
   "cell_type": "code",
   "execution_count": 48,
   "metadata": {},
   "outputs": [
    {
     "data": {
      "text/plain": [
       "CalculationSetups dictionary with 1 object(s):\n",
       "\tbaselines"
      ]
     },
     "execution_count": 48,
     "metadata": {},
     "output_type": "execute_result"
    }
   ],
   "source": [
    "bw.calculation_setups"
   ]
  },
  {
   "cell_type": "code",
   "execution_count": 49,
   "metadata": {},
   "outputs": [],
   "source": [
    "mlca = bw.MultiLCA('baselines')"
   ]
  },
  {
   "cell_type": "code",
   "execution_count": 77,
   "metadata": {},
   "outputs": [],
   "source": [
    "ei_impacts = pd.DataFrame(mlca.results,\n",
    "             columns=pd.MultiIndex.from_tuples([m for m in mlca.methods], names=('methodology', 'category', 'indicator')),\n",
    "             index=approaches).droplevel([0,2],axis=1)"
   ]
  },
  {
   "cell_type": "code",
   "execution_count": 79,
   "metadata": {},
   "outputs": [],
   "source": [
    "keys = ['Built margin at time of installation','Built margin over project lifetime']\n",
    "\n",
    "vdp_impacts = pd.DataFrame([reference_activities[k] for k in keys], index=keys)"
   ]
  },
  {
   "cell_type": "code",
   "execution_count": 85,
   "metadata": {},
   "outputs": [],
   "source": [
    "all_impacts = pd.concat([ei_impacts,vdp_impacts])"
   ]
  },
  {
   "cell_type": "code",
   "execution_count": 107,
   "metadata": {},
   "outputs": [],
   "source": [
    "all_impacts.loc['Mixed method'] = .5 * all_impacts.loc['Operating margin at time of installation'] \\\n",
    "                                + .5 * all_impacts.loc['Built margin at time of installation']"
   ]
  },
  {
   "cell_type": "markdown",
   "metadata": {},
   "source": [
    "Now we can plot the various values for the baselines we defined. Let's pick the climate change indicator first."
   ]
  },
  {
   "cell_type": "code",
   "execution_count": 113,
   "metadata": {},
   "outputs": [
    {
     "data": {
      "image/png": "[encoded data removed]",
      "text/plain": [
       "<Figure size 432x288 with 1 Axes>"
      ]
     },
     "metadata": {
      "needs_background": "light"
     },
     "output_type": "display_data"
    }
   ],
   "source": [
    "imp = 'climate change'\n",
    "unit = 'kg CO2 eq./kWh'\n",
    "\n",
    "ax = all_impacts[imp].plot.bar()\n",
    "ax.set_ylabel(f'{imp} [{unit}]')\n",
    "ax.set_xlabel('Methodological approach')\n",
    "ax.set_title(f'Electricity substituted by the new production capacity,\\n{imp} indicator')\n",
    "\n",
    "for i,t in enumerate(all_impacts[imp]):\n",
    "    ax.text(i,t,f'{t:.2f}',\n",
    "           horizontalalignment='center',\n",
    "           verticalalignment='bottom')"
   ]
  },
  {
   "cell_type": "markdown",
   "metadata": {},
   "source": [
    "# Note on additionality\n",
    "A first prerequisite before delving into details and methodological choices is to guarantee what is called the “additionality” of a new project, i.e. the assurance that said project, financed by a given party, would not have been financed by any other party if the investment did not occur. Guaranteeing additionality ensures that avoided emissions will only be attributed to one party, thereby avoiding any chance of double-counting, necessary to the integrity of the accounting framework."
   ]
  }
 ],
 "metadata": {
  "kernelspec": {
   "display_name": "Python 3",
   "language": "python",
   "name": "python3"
  },
  "language_info": {
   "codemirror_mode": {
    "name": "ipython",
    "version": 3
   },
   "file_extension": ".py",
   "mimetype": "text/x-python",
   "name": "python",
   "nbconvert_exporter": "python",
   "pygments_lexer": "ipython3",
   "version": "3.8.5"
  },
  "toc": {
   "base_numbering": 1,
   "nav_menu": {},
   "number_sections": true,
   "sideBar": true,
   "skip_h1_title": false,
   "title_cell": "Table of Contents",
   "title_sidebar": "Contents",
   "toc_cell": false,
   "toc_position": {},
   "toc_section_display": true,
   "toc_window_display": false
  }
 },
 "nbformat": 4,
 "nbformat_minor": 5
}
